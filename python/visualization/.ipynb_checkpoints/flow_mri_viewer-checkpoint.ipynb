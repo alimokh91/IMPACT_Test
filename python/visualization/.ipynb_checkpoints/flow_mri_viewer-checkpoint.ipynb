{
 "cells": [
  {
   "cell_type": "markdown",
   "metadata": {},
   "source": [
    "# Interactive FlowMRI Viewer"
   ]
  },
  {
   "cell_type": "code",
   "execution_count": null,
   "metadata": {
    "tags": [
     "parameters"
    ]
   },
   "outputs": [],
   "source": [
    "# Notebook parameters - to be moved into papermill parameters\n",
    "import os\n",
    "hpc_predict_data_root = \"/hpc-predict-data\"\n",
    "# hpc_predict_data_root = os.path.join(os.environ['HOME'], \"src/hpc-predict/hpc-predict/data/v1\")\n",
    "mri_file_name = os.environ['HPC_PREDICT_MRI_PATH']\n",
    "print(f\"Processing {mri_file_name}.\")"
   ]
  },
  {
   "cell_type": "code",
   "execution_count": null,
   "metadata": {
    "collapsed": false,
    "jupyter": {
     "outputs_hidden": false
    },
    "pycharm": {
     "name": "#%%\n"
    }
   },
   "outputs": [],
   "source": [
    "import sys\n",
    "import tarfile\n",
    "import json\n",
    "import pydicom\n",
    "import pandas as pd\n",
    "import numpy as np\n",
    "from pprint import pprint\n",
    "from mr_io import FlowMRI\n",
    "\n",
    "mri_file_path = os.path.join(hpc_predict_data_root, mri_file_name)\n",
    "if not os.path.exists(mri_file_path):\n",
    "    raise RuntimeError(f\"MRI file not found at {mri_file_path}: file does not exist.\")\n",
    "hpc_predict_mri = FlowMRI.read_hdf5(mri_file_path)"
   ]
  },
  {
   "cell_type": "code",
   "execution_count": null,
   "metadata": {
    "collapsed": false,
    "jupyter": {
     "outputs_hidden": false
    },
    "pycharm": {
     "name": "#%%\n"
    }
   },
   "outputs": [],
   "source": [
    "import matplotlib.pyplot as plt\n",
    "\n",
    "figure, ax = plt.subplots(ncols=1, figsize=(12*1,8*1))\n",
    "ax.hist(hpc_predict_mri.intensity.flatten(), bins=50, label='magnitude-hpc-predict', alpha=0.5)\n",
    "figure.legend()\n",
    "figure.tight_layout()"
   ]
  },
  {
   "cell_type": "code",
   "execution_count": null,
   "metadata": {
    "collapsed": false,
    "jupyter": {
     "outputs_hidden": false
    },
    "pycharm": {
     "name": "#%%\n"
    }
   },
   "outputs": [],
   "source": [
    "figure, ax = plt.subplots(ncols=3, sharex=True, figsize=(12*3,8*1))\n",
    "for j in range(3):\n",
    "    ax[j].hist(hpc_predict_mri.velocity_mean[:,:,:,:,j].flatten(), bins=50, label='phase-{}-hpc-predict'.format(j), alpha=0.5)\n",
    "figure.legend()\n",
    "figure.tight_layout()"
   ]
  },
  {
   "cell_type": "code",
   "execution_count": null,
   "metadata": {},
   "outputs": [],
   "source": [
    "from __future__ import print_function\n",
    "from ipywidgets import interact, interactive, fixed, interact_manual\n",
    "import ipywidgets as widgets\n",
    "\n",
    "def flow_intensity_animation(z, t):\n",
    "    fig, ax = plt.subplots(nrows=1, ncols=5, figsize=(44,10), sharey=True, sharex=True)\n",
    "    ax[0].quiver( hpc_predict_mri.velocity_mean[:,:,z, t, 0], \n",
    "                  hpc_predict_mri.velocity_mean[:,:,z, t, 1], \n",
    "                  hpc_predict_mri.velocity_mean[:,:,z, t, 2])\n",
    "    ax[1].imshow(hpc_predict_mri.intensity[:,:,z, t], cmap='gray')\n",
    "    ax[2].imshow(hpc_predict_mri.velocity_mean[:,:,z, t, 0], cmap='gray')\n",
    "    ax[3].imshow(hpc_predict_mri.velocity_mean[:,:,z, t, 1], cmap='gray')\n",
    "    ax[4].imshow(hpc_predict_mri.velocity_mean[:,:,z, t, 2], cmap='gray')\n",
    "    return z, t\n",
    "\n",
    "interact(flow_intensity_animation, z=(0, hpc_predict_mri.intensity.shape[2]-1), t=(0, hpc_predict_mri.intensity.shape[3]-1))"
   ]
  },
  {
   "cell_type": "code",
   "execution_count": null,
   "metadata": {
    "jupyter": {
     "source_hidden": true
    },
    "tags": []
   },
   "outputs": [],
   "source": [
    "# x_min = 40\n",
    "# x_max = -1\n",
    "# y_min = 30\n",
    "# y_max = -30\n",
    "\n",
    "# def flow_intensity_combined_animation(z, t):\n",
    "#     fig, ax = plt.subplots(nrows=1, ncols=1, figsize=(88,20), sharey=True, sharex=True)\n",
    "#     ax.imshow(hpc_predict_mri.intensity[x_min:x_max,y_min:y_max,z, t], alpha=0.7, cmap='gray')\n",
    "#     ax.quiver(hpc_predict_mri.velocity_mean[x_min:x_max,y_min:y_max,z, t, 1], \n",
    "#               hpc_predict_mri.velocity_mean[x_min:x_max,y_min:y_max,z, t, 0], \n",
    "#                np.linalg.norm(hpc_predict_mri.velocity_mean[x_min:x_max,y_min:y_max,z, t, :], axis=2))\n",
    "#     return z, t\n",
    "\n",
    "# interact(flow_intensity_combined_animation, z=(0, hpc_predict_mri.intensity.shape[2]-1), t=(0, hpc_predict_mri.intensity.shape[3]-1))"
   ]
  },
  {
   "cell_type": "markdown",
   "metadata": {},
   "source": [
    "## Magnitude and phase combined"
   ]
  },
  {
   "cell_type": "markdown",
   "metadata": {},
   "source": [
    "### Sagittal | Coronary | Axial (all vertical)"
   ]
  },
  {
   "cell_type": "code",
   "execution_count": null,
   "metadata": {},
   "outputs": [],
   "source": [
    "# Vertical view \n",
    "\n",
    "# Region of interest\n",
    "x_min = 0\n",
    "x_max = len(hpc_predict_mri.geometry[0])\n",
    "y_min = 0\n",
    "y_max = len(hpc_predict_mri.geometry[1])-0\n",
    "z_min = 0\n",
    "z_max = len(hpc_predict_mri.geometry[2])\n",
    "\n",
    "def flow_intensity_combined_xyz_animation(x, y, z, t):\n",
    "    fig, old_ax = plt.subplots(nrows=3, ncols=3, figsize=(26,20), \n",
    "                           gridspec_kw=dict(width_ratios=[  hpc_predict_mri.geometry[1][y_max-1]-hpc_predict_mri.geometry[1][y_min],     hpc_predict_mri.geometry[2][z_max-1]-hpc_predict_mri.geometry[2][z_min], hpc_predict_mri.geometry[2][z_max-1]-hpc_predict_mri.geometry[2][z_min] ], \n",
    "                                            height_ratios=[((hpc_predict_mri.geometry[0][x_max-1]-hpc_predict_mri.geometry[0][x_min]) - (hpc_predict_mri.geometry[1][y_max-1]-hpc_predict_mri.geometry[1][y_min]))/2., \n",
    "                                                             hpc_predict_mri.geometry[1][y_max-1]-hpc_predict_mri.geometry[1][y_min],\n",
    "                                                           ((hpc_predict_mri.geometry[0][x_max-1]-hpc_predict_mri.geometry[0][x_min]) - (hpc_predict_mri.geometry[1][y_max-1]-hpc_predict_mri.geometry[1][y_min]))/2.]), \n",
    "                           sharey=True)\n",
    "    gs = (old_ax[0,0].get_gridspec(), old_ax[0,1].get_gridspec()) \n",
    "    for ax in list(old_ax[:,0]) + list(old_ax[:,1]) + list(old_ax[::2,2]):\n",
    "        ax.remove()\n",
    "    ax = [fig.add_subplot(gs[0][:,0]), fig.add_subplot(gs[1][:,1]), old_ax[1,2]]\n",
    "    \n",
    "    ax[0].pcolormesh(hpc_predict_mri.geometry[1][y_min:y_max],\n",
    "                  -hpc_predict_mri.geometry[0][x_min:x_max], # x-axis reversal for easier viewing\n",
    "                  hpc_predict_mri.intensity[x_min:x_max,y_min:y_max,z, t], # because ordering is expected as (second axis, first axis)\n",
    "                  shading='auto', cmap='gray')\n",
    "    ax[0].quiver(hpc_predict_mri.geometry[1][y_min:y_max],\n",
    "              -hpc_predict_mri.geometry[0][x_min:x_max], # x-axis reversal for easier viewing\n",
    "              hpc_predict_mri.velocity_mean[x_min:x_max,y_min:y_max,z, t, 1], # velocity sign can be reverted here to correct for unphysiological flows\n",
    "              -hpc_predict_mri.velocity_mean[x_min:x_max,y_min:y_max,z, t, 0], # x-axis reversal for easier viewing\n",
    "              np.linalg.norm(hpc_predict_mri.velocity_mean[x_min:x_max,y_min:y_max,z, t, :], axis=2) )\n",
    "    ax[0].plot([hpc_predict_mri.geometry[1][y],     hpc_predict_mri.geometry[1][y]],      [-hpc_predict_mri.geometry[0][x_min],-hpc_predict_mri.geometry[0][x_max-1]], color='cyan', alpha=0.3)\n",
    "    ax[0].plot([hpc_predict_mri.geometry[1][y_min], hpc_predict_mri.geometry[1][y_max-1]],[-hpc_predict_mri.geometry[0][x],    -hpc_predict_mri.geometry[0][x]],       color='orange', alpha=0.3)\n",
    "    ax[0].set_title(\"Sagittal View (z fixed)\", color='magenta')\n",
    "    ax[0].set_xlabel(\"anterior -> posterior (MRI-y-axis), velocity inverted!\")\n",
    "    ax[0].set_ylabel(\"inferior -> superior (neg. MRI-x-axis)\")\n",
    "    \n",
    "    ax[1].pcolormesh(hpc_predict_mri.geometry[2][z_min:z_max],\n",
    "                  -hpc_predict_mri.geometry[0][x_min:x_max],\n",
    "                  hpc_predict_mri.intensity[x_min:x_max,y,z_min:z_max, t], \n",
    "                  shading='auto', cmap='gray')\n",
    "    ax[1].quiver(hpc_predict_mri.geometry[2][z_min:z_max],\n",
    "              -hpc_predict_mri.geometry[0][x_min:x_max],\n",
    "              hpc_predict_mri.velocity_mean[x_min:x_max,y,z_min:z_max, t, 2], \n",
    "              -hpc_predict_mri.velocity_mean[x_min:x_max,y,z_min:z_max, t, 0], \n",
    "              np.linalg.norm(hpc_predict_mri.velocity_mean[x_min:x_max,y,z_min:z_max, t, :], axis=2) )\n",
    "    ax[1].plot([hpc_predict_mri.geometry[2][z],     hpc_predict_mri.geometry[2][z]],      [-hpc_predict_mri.geometry[0][x_min],-hpc_predict_mri.geometry[0][x_max-1]], color='magenta', alpha=0.3)\n",
    "    ax[1].plot([hpc_predict_mri.geometry[2][z_min], hpc_predict_mri.geometry[2][z_max-1]],[-hpc_predict_mri.geometry[0][x],    -hpc_predict_mri.geometry[0][x]],       color='orange', alpha=0.3)\n",
    "    ax[1].set_title(\"Coronary View  (y fixed)\", color='cyan')\n",
    "    ax[1].set_xlabel(\"right (medial) -> left (lateral) (MRI-z-axis)\")\n",
    "    ax[1].set_ylabel(\"inferior -> superior (neg. MRI-x-axis)\")\n",
    "    \n",
    "    ax[2].pcolormesh(hpc_predict_mri.geometry[2][z_min:z_max],\n",
    "                  -hpc_predict_mri.geometry[1][y_min:y_max],\n",
    "                  hpc_predict_mri.intensity[x,y_min:y_max,z_min:z_max, t], \n",
    "                  shading='auto', cmap='gray')\n",
    "    ax[2].quiver(hpc_predict_mri.geometry[2][z_min:z_max],\n",
    "              -hpc_predict_mri.geometry[1][y_min:y_max],\n",
    "              hpc_predict_mri.velocity_mean[x,y_min:y_max,z_min:z_max, t, 2], \n",
    "              -hpc_predict_mri.velocity_mean[x,y_min:y_max,z_min:z_max, t, 1], \n",
    "              np.linalg.norm(hpc_predict_mri.velocity_mean[x,y_min:y_max,z_min:z_max, t, :], axis=2) )\n",
    "    ax[2].plot([hpc_predict_mri.geometry[2][z],     hpc_predict_mri.geometry[2][z]],      [-hpc_predict_mri.geometry[1][y_min],-hpc_predict_mri.geometry[1][y_max-1]], color='magenta', alpha=0.3)\n",
    "    ax[2].plot([hpc_predict_mri.geometry[2][z_min], hpc_predict_mri.geometry[2][z_max-1]],[-hpc_predict_mri.geometry[1][y],    -hpc_predict_mri.geometry[1][y]],       color='cyan', alpha=0.3)\n",
    "    ax[2].set_title(\"Axial View (x fixed)\", color='orange')\n",
    "    ax[2].set_xlabel(\"right (medial) -> left (lateral) (MRI-z-axis)\")\n",
    "    ax[2].set_ylabel(\"posterior -> anterior (MRI-y-axis), velocity inverted!\")    \n",
    "    \n",
    "    return x, y, z, t\n",
    "\n",
    "interact(flow_intensity_combined_xyz_animation, x=(0, hpc_predict_mri.intensity.shape[0]-1), y=(0, hpc_predict_mri.intensity.shape[1]-1), z=(0, hpc_predict_mri.intensity.shape[2]-1), t=(0, hpc_predict_mri.intensity.shape[3]-1))"
   ]
  },
  {
   "cell_type": "markdown",
   "metadata": {},
   "source": [
    "### Sagittal view, vertical (watch out for MRI-y-velocity inverted!)"
   ]
  },
  {
   "cell_type": "code",
   "execution_count": null,
   "metadata": {},
   "outputs": [],
   "source": [
    "# Vertical view (alternative, less wide-screen friendly)\n",
    "\n",
    "# Region of interest\n",
    "x_min = 0\n",
    "x_max = len(hpc_predict_mri.geometry[0])\n",
    "y_min = 0\n",
    "y_max = len(hpc_predict_mri.geometry[1])-0\n",
    "\n",
    "def flow_intensity_combined_xy_animation(z, t):\n",
    "    fig, ax = plt.subplots(nrows=1, ncols=1, figsize=(15,20))\n",
    "    ax.pcolormesh(hpc_predict_mri.geometry[1][y_min:y_max],\n",
    "                  -hpc_predict_mri.geometry[0][x_min:x_max], # x-axis reversal for easier viewing\n",
    "                  hpc_predict_mri.intensity[x_min:x_max,y_min:y_max,z, t], # because ordering is expected as (second axis, first axis)\n",
    "                  shading='auto', cmap='gray')\n",
    "    ax.quiver(hpc_predict_mri.geometry[1][y_min:y_max],\n",
    "              -hpc_predict_mri.geometry[0][x_min:x_max], # x-axis reversal for easier viewing\n",
    "              hpc_predict_mri.velocity_mean[x_min:x_max,y_min:y_max,z, t, 1], # velocity sign can be reverted here to correct for unphysiological flows\n",
    "              -hpc_predict_mri.velocity_mean[x_min:x_max,y_min:y_max,z, t, 0], # x-axis reversal for easier viewing\n",
    "              np.linalg.norm(hpc_predict_mri.velocity_mean[x_min:x_max,y_min:y_max,z, t, :], axis=2) )\n",
    "    ax.set_title(\"Sagittal View\")\n",
    "    ax.set_xlabel(\"anterior -> posterior (MRI-y-axis), velocity inverted!\")\n",
    "    ax.set_ylabel(\"inferior -> superior (neg. MRI-x-axis)\")\n",
    "\n",
    "    return z, t\n",
    "\n",
    "interact(flow_intensity_combined_xy_animation, z=(0, hpc_predict_mri.intensity.shape[2]-1), t=(0, hpc_predict_mri.intensity.shape[3]-1))"
   ]
  },
  {
   "cell_type": "markdown",
   "metadata": {},
   "source": [
    "### Coronary view, vertical"
   ]
  },
  {
   "cell_type": "code",
   "execution_count": null,
   "metadata": {},
   "outputs": [],
   "source": [
    "# Vertical view (alternative, less wide-screen friendly)\n",
    "\n",
    "# Region of interest\n",
    "x_min = 0\n",
    "x_max = len(hpc_predict_mri.geometry[0])\n",
    "z_min = 0\n",
    "z_max = len(hpc_predict_mri.geometry[2])\n",
    "\n",
    "def flow_intensity_combined_xz_animation(y, t):\n",
    "    fig, ax = plt.subplots(nrows=1, ncols=1, figsize=(8.5,25))\n",
    "    ax.pcolormesh(hpc_predict_mri.geometry[2][z_min:z_max],\n",
    "                  -hpc_predict_mri.geometry[0][x_min:x_max],\n",
    "                  hpc_predict_mri.intensity[x_min:x_max,y,z_min:z_max, t], \n",
    "                  shading='auto', cmap='gray')\n",
    "    ax.quiver(hpc_predict_mri.geometry[2][z_min:z_max],\n",
    "              -hpc_predict_mri.geometry[0][x_min:x_max],\n",
    "              hpc_predict_mri.velocity_mean[x_min:x_max,y,z_min:z_max, t, 2], \n",
    "              -hpc_predict_mri.velocity_mean[x_min:x_max,y,z_min:z_max, t, 0], \n",
    "              np.linalg.norm(hpc_predict_mri.velocity_mean[x_min:x_max,y,z_min:z_max, t, :], axis=2) )\n",
    "    ax.set_title(\"Coronary View\")\n",
    "    ax.set_xlabel(\"right (medial) -> left (lateral) (MRI-z-axis)\")\n",
    "    ax.set_ylabel(\"inferior -> superior (neg. MRI-x-axis)\")\n",
    "    \n",
    "    return y, t\n",
    "\n",
    "interact(flow_intensity_combined_xz_animation, y=(0, hpc_predict_mri.intensity.shape[1]-1), t=(0, hpc_predict_mri.intensity.shape[3]-1))"
   ]
  },
  {
   "cell_type": "markdown",
   "metadata": {},
   "source": [
    "### Axial view, vertical"
   ]
  },
  {
   "cell_type": "code",
   "execution_count": null,
   "metadata": {},
   "outputs": [],
   "source": [
    "# Vertical view (alternative, less wide-screen friendly)\n",
    "\n",
    "# Region of interest\n",
    "y_min = 0\n",
    "y_max = len(hpc_predict_mri.geometry[0])\n",
    "z_min = 0\n",
    "z_max = len(hpc_predict_mri.geometry[2])\n",
    "\n",
    "def flow_intensity_combined_yz_animation(x, t):\n",
    "    fig, ax = plt.subplots(nrows=1, ncols=1, figsize=(8.5,25))\n",
    "    ax.pcolormesh(hpc_predict_mri.geometry[2][z_min:z_max],\n",
    "                  -hpc_predict_mri.geometry[1][y_min:y_max],\n",
    "                  hpc_predict_mri.intensity[x,y_min:y_max,z_min:z_max, t], \n",
    "                  shading='auto', cmap='gray')\n",
    "    ax.quiver(hpc_predict_mri.geometry[2][z_min:z_max],\n",
    "              -hpc_predict_mri.geometry[1][y_min:y_max],\n",
    "              hpc_predict_mri.velocity_mean[x,y_min:y_max,z_min:z_max, t, 2], \n",
    "              -hpc_predict_mri.velocity_mean[x,y_min:y_max,z_min:z_max, t, 1], \n",
    "              np.linalg.norm(hpc_predict_mri.velocity_mean[x,y_min:y_max,z_min:z_max, t, :], axis=2) )\n",
    "    ax.set_title(\"Axial View\")\n",
    "    ax.set_xlabel(\"right (medial) -> left (lateral) (MRI-z-axis)\")\n",
    "    ax.set_ylabel(\"posterior -> anterior (MRI-y-axis), velocity inverted!\")\n",
    "    \n",
    "    return x, t\n",
    "\n",
    "interact(flow_intensity_combined_yz_animation, x=(0, hpc_predict_mri.intensity.shape[1]-1), t=(0, hpc_predict_mri.intensity.shape[3]-1))"
   ]
  },
  {
   "cell_type": "markdown",
   "metadata": {},
   "source": [
    "### Sagittal view, horizontal (watch out for MRI-y-velocity inverted!)"
   ]
  },
  {
   "cell_type": "code",
   "execution_count": null,
   "metadata": {},
   "outputs": [],
   "source": [
    "# Horizontal view\n",
    "\n",
    "# Region of interest\n",
    "x_min = 0\n",
    "x_max = len(hpc_predict_mri.geometry[0])\n",
    "y_min = 0\n",
    "y_max = len(hpc_predict_mri.geometry[1])-0\n",
    "\n",
    "def flow_intensity_combined_xy_animation(z, t):\n",
    "    fig, ax = plt.subplots(nrows=1, ncols=1, figsize=(20,15))\n",
    "    ax.pcolormesh(hpc_predict_mri.geometry[0][x_min:x_max],\n",
    "                  hpc_predict_mri.geometry[1][y_min:y_max],\n",
    "                  hpc_predict_mri.intensity[x_min:x_max,y_min:y_max,z, t].transpose(), # because ordering is expected as (second axis, first axis)\n",
    "                  shading='auto', cmap='gray')\n",
    "    ax.quiver(hpc_predict_mri.geometry[0][x_min:x_max],\n",
    "              hpc_predict_mri.geometry[1][y_min:y_max],\n",
    "              hpc_predict_mri.velocity_mean[x_min:x_max,y_min:y_max,z, t, 0].transpose(), # order because first-axis component comes first \n",
    "              hpc_predict_mri.velocity_mean[x_min:x_max,y_min:y_max,z, t, 1].transpose(), # velocity sign can be reverted here to correct for unphysiological flows\n",
    "              np.linalg.norm(hpc_predict_mri.velocity_mean[x_min:x_max,y_min:y_max,z, t, :].transpose([1,0,2]), axis=2) )\n",
    "    ax.set_title(\"Sagittal View\")\n",
    "    ax.set_xlabel(\"superior -> inferior (MRI-x-axis)\")\n",
    "    ax.set_ylabel(\"anterior -> posterior (MRI-y-axis), velocity inverted!\")\n",
    "    \n",
    "    return z, t\n",
    "\n",
    "interact(flow_intensity_combined_xy_animation, z=(0, hpc_predict_mri.intensity.shape[2]-1), t=(0, hpc_predict_mri.intensity.shape[3]-1))"
   ]
  },
  {
   "cell_type": "markdown",
   "metadata": {},
   "source": [
    "### Coronary view, horizontal"
   ]
  },
  {
   "cell_type": "code",
   "execution_count": null,
   "metadata": {},
   "outputs": [],
   "source": [
    "# Horizontal view\n",
    "\n",
    "# Region of interest\n",
    "x_min = 0\n",
    "x_max = len(hpc_predict_mri.geometry[0])\n",
    "z_min = 0\n",
    "z_max = len(hpc_predict_mri.geometry[2])\n",
    "\n",
    "def flow_intensity_combined_xz_animation(y, t):\n",
    "    fig, ax = plt.subplots(nrows=1, ncols=1, figsize=(30,7.5))\n",
    "    ax.pcolormesh(hpc_predict_mri.geometry[0][x_min:x_max],\n",
    "                  hpc_predict_mri.geometry[2][z_min:z_max],\n",
    "                  hpc_predict_mri.intensity[x_min:x_max,y,z_min:z_max, t].transpose(), \n",
    "                  shading='auto', cmap='gray')\n",
    "    ax.quiver(hpc_predict_mri.geometry[0][x_min:x_max],\n",
    "              hpc_predict_mri.geometry[2][z_min:z_max],\n",
    "              hpc_predict_mri.velocity_mean[x_min:x_max,y,z_min:z_max, t, 0].transpose(), \n",
    "              hpc_predict_mri.velocity_mean[x_min:x_max,y,z_min:z_max, t, 2].transpose(), \n",
    "              np.linalg.norm(hpc_predict_mri.velocity_mean[x_min:x_max,y,z_min:z_max, t, :].transpose([1,0,2]), axis=2) )\n",
    "    ax.set_title(\"Coronary View\")\n",
    "    ax.set_xlabel(\"superior -> inferior (MRI-x-axis)\")\n",
    "    ax.set_ylabel(\"right (medial) -> left (lateral) (MRI-z-axis)\")\n",
    "    \n",
    "    return y, t\n",
    "\n",
    "interact(flow_intensity_combined_xz_animation, y=(0, hpc_predict_mri.intensity.shape[1]-1), t=(0, hpc_predict_mri.intensity.shape[3]-1))"
   ]
  },
  {
   "cell_type": "markdown",
   "metadata": {},
   "source": [
    "### Axial view, horizontal"
   ]
  },
  {
   "cell_type": "code",
   "execution_count": null,
   "metadata": {},
   "outputs": [],
   "source": [
    "# Horizontal view\n",
    "\n",
    "# Region of interest\n",
    "y_min = 0\n",
    "y_max = len(hpc_predict_mri.geometry[1])\n",
    "z_min = 0\n",
    "z_max = len(hpc_predict_mri.geometry[2])\n",
    "\n",
    "def flow_intensity_combined_yz_animation(x, t):\n",
    "    fig, ax = plt.subplots(nrows=1, ncols=1, figsize=(30,7.5))\n",
    "    ax.pcolormesh(hpc_predict_mri.geometry[1][y_min:y_max],\n",
    "                  hpc_predict_mri.geometry[2][z_min:z_max],\n",
    "                  hpc_predict_mri.intensity[x,y_min:y_max,z_min:z_max, t].transpose(), \n",
    "                  shading='auto', cmap='gray')\n",
    "    ax.quiver(hpc_predict_mri.geometry[1][y_min:y_max],\n",
    "              hpc_predict_mri.geometry[2][z_min:z_max],\n",
    "              hpc_predict_mri.velocity_mean[x,y_min:y_max,z_min:z_max, t, 1].transpose(), \n",
    "              hpc_predict_mri.velocity_mean[x,y_min:y_max,z_min:z_max, t, 2].transpose(), \n",
    "              np.linalg.norm(hpc_predict_mri.velocity_mean[x,y_min:y_max,z_min:z_max, t, :].transpose([1,0,2]), axis=2) )\n",
    "    ax.set_title(\"Axial View\")\n",
    "    ax.set_xlabel(\"anterior -> posterior (MRI-y-axis), velocity inverted!\")\n",
    "    ax.set_ylabel(\"right (medial) -> left (lateral) (MRI-z-axis)\")\n",
    "    \n",
    "    return x, t\n",
    "\n",
    "interact(flow_intensity_combined_yz_animation, x=(0, hpc_predict_mri.intensity.shape[0]-1), t=(0, hpc_predict_mri.intensity.shape[3]-1))"
   ]
  },
  {
   "cell_type": "code",
   "execution_count": null,
   "metadata": {},
   "outputs": [],
   "source": []
  }
 ],
 "metadata": {
  "kernelspec": {
   "display_name": "Python 3",
   "language": "python",
   "name": "python3"
  },
  "language_info": {
   "codemirror_mode": {
    "name": "ipython",
    "version": 3
   },
   "file_extension": ".py",
   "mimetype": "text/x-python",
   "name": "python",
   "nbconvert_exporter": "python",
   "pygments_lexer": "ipython3",
   "version": "3.8.5"
  }
 },
 "nbformat": 4,
 "nbformat_minor": 4
}
