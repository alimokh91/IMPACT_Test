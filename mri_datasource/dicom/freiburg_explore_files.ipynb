{
 "cells": [
  {
   "cell_type": "markdown",
   "metadata": {},
   "source": [
    "# DICOM files inspection"
   ]
  },
  {
   "cell_type": "code",
   "execution_count": null,
   "metadata": {},
   "outputs": [],
   "source": [
    "import os\n",
    "import pydicom\n",
    "from pprint import pprint\n",
    "from dicom_visitors import *\n",
    "\n",
    "# Directory containing MRI studies\n",
    "mri_data_root = \"/home/lukasd/src/hpc-predict/data/v0/input_data/original/mri/MRT Daten Bern/\""
   ]
  },
  {
   "cell_type": "code",
   "execution_count": null,
   "metadata": {},
   "outputs": [],
   "source": [
    "# Data exploration\n",
    "\n",
    "mri_sample = \"3\"\n",
    "mri_data_path = os.path.join(mri_data_root, mri_sample)"
   ]
  },
  {
   "cell_type": "code",
   "execution_count": null,
   "metadata": {},
   "outputs": [],
   "source": [
    "%%bash -s \"$mri_data_path\"\n",
    "tree --filelimit 10 \"$1\""
   ]
  },
  {
   "cell_type": "code",
   "execution_count": null,
   "metadata": {},
   "outputs": [],
   "source": [
    "## https://pydicom.github.io/pydicom/stable/auto_examples/input_output/plot_read_dicom_directory.html#sphx-glr-auto-examples-input-output-plot-read-dicom-directory-py\n",
    "\n",
    "# authors : Guillaume Lemaitre <g.lemaitre58@gmail.com>\n",
    "# license : MIT\n",
    "\n",
    "# fetch the path to the test data\n",
    "filepath = os.path.join(mri_data_path, 'DICOMDIR')\n",
    "print('Path to the DICOM directory: {}'.format(filepath))\n",
    "# load the data\n",
    "dicom_dir = pydicom.filereader.read_dicomdir(filepath)\n",
    "base_dir = os.path.dirname(filepath)"
   ]
  },
  {
   "cell_type": "code",
   "execution_count": null,
   "metadata": {},
   "outputs": [],
   "source": [
    "## Overview of header fields\n",
    "print(\"*** DICOMDIR ***\")\n",
    "pprint(dicom_dir)"
   ]
  },
  {
   "cell_type": "code",
   "execution_count": null,
   "metadata": {},
   "outputs": [],
   "source": [
    "patient_record = dicom_dir.patient_records[0]\n",
    "print(\"*** PATIENT ***\")\n",
    "pprint(patient_record)"
   ]
  },
  {
   "cell_type": "code",
   "execution_count": null,
   "metadata": {},
   "outputs": [],
   "source": [
    "study = patient_record.children[0]\n",
    "print(\"*** STUDY ***\")\n",
    "pprint(study)"
   ]
  },
  {
   "cell_type": "code",
   "execution_count": null,
   "metadata": {},
   "outputs": [],
   "source": [
    "series = study.children[0]\n",
    "print(\"*** SERIES ***\")\n",
    "pprint(series)"
   ]
  },
  {
   "cell_type": "code",
   "execution_count": null,
   "metadata": {},
   "outputs": [],
   "source": [
    "image_record = series.children[0]\n",
    "print(\"*** IMAGE ***\")\n",
    "#pprint(dir(image_record))\n",
    "pprint(image_record)"
   ]
  },
  {
   "cell_type": "code",
   "execution_count": null,
   "metadata": {},
   "outputs": [],
   "source": [
    "# DICOM tags can be checked here:\n",
    "# https://www.dicomstandard.org/current\n",
    "# e.g. in http://dicom.nema.org/medical/dicom/current/output/html/part03.html\n",
    "\n",
    "image_filename = os.path.join(base_dir, *image_record.ReferencedFileID)\n",
    "dicom_img = pydicom.dcmread(image_filename)\n",
    "print(\"*** SINGLE IMAGE FILE ***\")\n",
    "print(\"Image filename: {}\".format(image_filename))\n",
    "pprint(dicom_img)\n",
    "import matplotlib.pyplot as plt\n",
    "plt.imshow(dicom_img.pixel_array, cmap=plt.cm.get_cmap('bone'))\n",
    "plt.show()"
   ]
  },
  {
   "cell_type": "code",
   "execution_count": null,
   "metadata": {},
   "outputs": [],
   "source": []
  }
 ],
 "metadata": {
  "kernelspec": {
   "display_name": "Python 3",
   "language": "python",
   "name": "python3"
  },
  "language_info": {
   "codemirror_mode": {
    "name": "ipython",
    "version": 3
   },
   "file_extension": ".py",
   "mimetype": "text/x-python",
   "name": "python",
   "nbconvert_exporter": "python",
   "pygments_lexer": "ipython3",
   "version": "3.6.9"
  }
 },
 "nbformat": 4,
 "nbformat_minor": 4
}
