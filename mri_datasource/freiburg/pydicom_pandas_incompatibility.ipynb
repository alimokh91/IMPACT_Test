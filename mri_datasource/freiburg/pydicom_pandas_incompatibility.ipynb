{
 "cells": [
  {
   "cell_type": "markdown",
   "metadata": {},
   "source": [
    "# Incompatibility of Pydicom with Pandas"
   ]
  },
  {
   "cell_type": "code",
   "execution_count": null,
   "metadata": {},
   "outputs": [],
   "source": [
    "hpc_predict_data_dir=\"/home/lukasd/src/hpc-predict/data/v0\" # e.g. ../../../data/v0"
   ]
  },
  {
   "cell_type": "markdown",
   "metadata": {},
   "source": [
    "This script assumes that you have the Freiburg dataset available, otherwise first run `data/fetch_scripts/fetch_freiburg.sh`.\n",
    "\n",
    "To run the following steps, the DICOM headers must previously be converted to pandas tables, i.e.\n",
    "\n",
    "```\n",
    "convert_dicom_to_pandas.py --mri-data-root \"${hpc_predict_data_dir}/input_data/original/mri/MRT Daten Bern\" --mri-samples ... --output-root \"${hpc_predict_data_dir}/input_data/original/mri/MRT Daten Bern DICOM Header\"\n",
    "```"
   ]
  },
  {
   "cell_type": "markdown",
   "metadata": {},
   "source": [
    "### Import pickled DataFrames"
   ]
  },
  {
   "cell_type": "code",
   "execution_count": null,
   "metadata": {},
   "outputs": [],
   "source": [
    "from glob import glob\n",
    "import os\n",
    "\n",
    "pkls = sorted(glob(hpc_predict_data_dir + \"/input_data/preprocessed/mri/MRT Daten Bern DICOM Header/3.pkl\"), key=lambda x: int(os.path.basename(x).split('.')[0]) )\n",
    "pkls"
   ]
  },
  {
   "cell_type": "code",
   "execution_count": null,
   "metadata": {},
   "outputs": [],
   "source": [
    "import pydicom\n",
    "import pandas as pd\n",
    "import numpy as np\n",
    "from pprint import pprint\n",
    "\n",
    "# Read pandas DataFrame that contains pydicom DataElement entries and was generated with convert_dicom_to_pandas.py\n",
    "df = pd.concat([pd.read_pickle(pkl) for pkl in pkls],axis=0)"
   ]
  },
  {
   "cell_type": "code",
   "execution_count": null,
   "metadata": {},
   "outputs": [],
   "source": [
    "# Individual entries are pydicom DataElements\n",
    "df.iloc[0,0]"
   ]
  },
  {
   "cell_type": "code",
   "execution_count": null,
   "metadata": {},
   "outputs": [],
   "source": [
    "# The value is held in the _value attribute, often in \"semi-serialized\" representation with \n",
    "# the VR describing the DICOM type  \n",
    "vars(df.iloc[0,0])"
   ]
  },
  {
   "cell_type": "markdown",
   "metadata": {},
   "source": [
    "### Use names instead of DICOM tags as column labels"
   ]
  },
  {
   "cell_type": "code",
   "execution_count": null,
   "metadata": {
    "collapsed": false,
    "jupyter": {
     "outputs_hidden": false
    },
    "pycharm": {
     "name": "#%%\n"
    }
   },
   "outputs": [],
   "source": [
    "## Compute the DICOM tag -> name mapping to renamed columns\n",
    "tag_names = df.apply( lambda c: c.dropna().apply(lambda x: x.name).unique(), axis=0); assert tag_names.shape[0] == 1; tag_names = tag_names.loc[0] \n",
    "#tag_names.to_dict()"
   ]
  },
  {
   "cell_type": "code",
   "execution_count": null,
   "metadata": {},
   "outputs": [],
   "source": [
    "df_renamed = df.rename(columns=tag_names.to_dict())\n",
    "\n",
    "# display only values\n",
    "pd.set_option('display.max_columns', 20)\n",
    "df_renamed.applymap(lambda x: x.value if pd.notnull(x) else x )"
   ]
  },
  {
   "cell_type": "code",
   "execution_count": null,
   "metadata": {},
   "outputs": [],
   "source": [
    "\n",
    "# This won't work with pydicom DataElements in the entries as they are not hashable\n",
    "df_renamed_sequence_columns = list(df_renamed.columns[[c.endswith(\"Sequence\") for c in df_renamed.columns]].values)\n",
    "for col in df_renamed.drop(columns=df_renamed_sequence_columns + ['Acquisition Matrix', 'Private Creator', 'Overlay Origin']).columns:\n",
    "    #print(\"Calculating unique values in column {}.\".format(col))\n",
    "    #df_renamed[col].apply(lambda x: x.value if pd.notnull(x) else x ).unique()\n",
    "    print(\"Grouping by column {}.\".format(col))\n",
    "    df_renamed.applymap(lambda x: x.value if pd.notnull(x) else x ).groupby(col)\n",
    "    \n"
   ]
  },
  {
   "cell_type": "code",
   "execution_count": null,
   "metadata": {},
   "outputs": [],
   "source": []
  }
 ],
 "metadata": {
  "kernelspec": {
   "display_name": "Python 3",
   "language": "python",
   "name": "python3"
  },
  "language_info": {
   "codemirror_mode": {
    "name": "ipython",
    "version": 3
   },
   "file_extension": ".py",
   "mimetype": "text/x-python",
   "name": "python",
   "nbconvert_exporter": "python",
   "pygments_lexer": "ipython3",
   "version": "3.6.9"
  }
 },
 "nbformat": 4,
 "nbformat_minor": 4
}
